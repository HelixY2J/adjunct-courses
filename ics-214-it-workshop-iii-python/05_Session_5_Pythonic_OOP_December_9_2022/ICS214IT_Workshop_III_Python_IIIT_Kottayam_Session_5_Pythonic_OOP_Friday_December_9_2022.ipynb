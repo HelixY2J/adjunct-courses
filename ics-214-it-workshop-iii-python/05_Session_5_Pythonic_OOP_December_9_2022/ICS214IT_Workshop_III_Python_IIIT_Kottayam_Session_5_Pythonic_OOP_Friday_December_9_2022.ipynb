{
 "cells": [
  {
   "cell_type": "code",
   "execution_count": null,
   "id": "d4a574b8",
   "metadata": {
    "scrolled": true
   },
   "outputs": [],
   "source": [
    "# Importing Jupyter Black Formatter.\n",
    "import jupyter_black\n",
    "\n",
    "jupyter_black.load()"
   ]
  },
  {
   "cell_type": "markdown",
   "id": "8f589f4d",
   "metadata": {},
   "source": [
    "# ICS 214 IT Workshop III (Python) | IIIT Kottayam\n",
    "# Session 5 - Pythonic OOP | Friday, December 9, 2022\n",
    "#### **Author:** Anmol Krishan Sachdeva (@greatdevaks)\n",
    "\n",
    "## Review of Take-Home Assignment\n",
    "\n",
    "1. What's the order of execution if multiple decorators are used?\n",
    "2. How can arguments be passed to decorators?"
   ]
  },
  {
   "cell_type": "code",
   "execution_count": null,
   "id": "7e667e75",
   "metadata": {},
   "outputs": [],
   "source": [
    "# Case 1: Using Multiple Decorators - check the execution order.\n",
    "\n",
    "\n",
    "def print_args(decorated_function):\n",
    "    def wrapper(*args, **kwargs):\n",
    "        if args:\n",
    "            print(f\"The Non-Keyword Arguments passed are {args}.\")\n",
    "        result = decorated_function(*args, **kwargs)\n",
    "        return result\n",
    "\n",
    "    return wrapper\n",
    "\n",
    "\n",
    "def print_kwargs(decorated_function):\n",
    "    def wrapper(*args, **kwargs):\n",
    "        if kwargs:\n",
    "            print(f\"The Keyword Arguments passed are {kwargs}.\")\n",
    "        result = decorated_function(*args, **kwargs)\n",
    "        return result\n",
    "\n",
    "    return wrapper\n",
    "\n",
    "\n",
    "@print_args\n",
    "def add(*args):\n",
    "    return sum(args)\n",
    "\n",
    "\n",
    "@print_kwargs\n",
    "def get_menu(**kwargs):\n",
    "    for key in kwargs:\n",
    "        print(f\"{key} ==> {kwargs[key]}\")\n",
    "\n",
    "\n",
    "@print_args\n",
    "@print_kwargs\n",
    "def get_metadata(*args, **kwargs):\n",
    "    return args, kwargs\n",
    "\n",
    "\n",
    "@print_kwargs\n",
    "@print_args\n",
    "def get_metadata_reverse(*args, **kwargs):\n",
    "    return args, kwargs\n",
    "\n",
    "\n",
    "num_input = [1, 2, 3, 4, 5]\n",
    "add(*num_input)\n",
    "\n",
    "menu_items = {\"combo_1\": \"Pasta\", \"combo_2\": \"Sandwich\"}\n",
    "get_menu(**menu_items)\n",
    "\n",
    "print(f\"\\n****THE MAIN DEMO****\\n\")\n",
    "print(f\"\\n****Execution Order 1****\\n\")\n",
    "get_metadata(*num_input, **menu_items)\n",
    "print(f\"\\n****Execution Order 2****\\n\")\n",
    "get_metadata_reverse(*num_input, **menu_items)"
   ]
  },
  {
   "cell_type": "code",
   "execution_count": null,
   "id": "e4c412f7",
   "metadata": {},
   "outputs": [],
   "source": [
    "# Case 2: Decorators with Arguments.\n",
    "\n",
    "\n",
    "def repeat(message):\n",
    "    def inner(decorated_function):\n",
    "        def wrapper(*args, **kwargs):\n",
    "            print(f'Message passed is \"{message}\".')\n",
    "            result = decorated_function(*args, **kwargs)\n",
    "            return result\n",
    "\n",
    "        return wrapper\n",
    "\n",
    "    return inner\n",
    "\n",
    "\n",
    "@repeat(message=\"Hello from Decorator.\")\n",
    "def get_metadata(*args, **kwargs):\n",
    "    print(f\"The Non-Keyword Arguments passed are {args}.\")\n",
    "    print(f\"The Keyword Arguments passed are {kwargs}.\")\n",
    "    return args, kwargs\n",
    "\n",
    "\n",
    "num_input = [1, 2, 3, 4, 5]\n",
    "menu_items = {\"combo_1\": \"Pasta\", \"combo_2\": \"Sandwich\"}\n",
    "\n",
    "print(f\"\\n****THE MAIN DEMO****\\n\")\n",
    "get_metadata(*num_input, **menu_items)"
   ]
  },
  {
   "cell_type": "markdown",
   "id": "105d9f70",
   "metadata": {},
   "source": [
    "## Writing a Decorator Module for Timing the Functions"
   ]
  },
  {
   "cell_type": "code",
   "execution_count": null,
   "id": "95c27caa",
   "metadata": {
    "scrolled": true
   },
   "outputs": [],
   "source": [
    "# The definition for decorators goes here - say it in `decorators.py`\n",
    "from time import time\n",
    "\n",
    "\n",
    "def time_it(decorated_function):\n",
    "    def wrapper(*args, **kwargs):\n",
    "        start_time = time()\n",
    "        result = decorated_function(*args, **kwargs)\n",
    "        end_time = time()\n",
    "        print(\n",
    "            f\"Function {decorated_function.__name__} took {end_time - start_time}s to execute.\"\n",
    "        )  # Note: We make use of Python Introspection here for getting the name of the function in the f-String.\n",
    "        return result\n",
    "\n",
    "    return wrapper"
   ]
  },
  {
   "cell_type": "code",
   "execution_count": null,
   "id": "6b8ee6e6",
   "metadata": {
    "scrolled": true
   },
   "outputs": [],
   "source": [
    "# This is a separate file from `decorators.py`.\n",
    "from decorators import time_it\n",
    "from math import prod\n",
    "\n",
    "\n",
    "@time_it\n",
    "def average(*args):\n",
    "    return sum(args) / len(args)\n",
    "\n",
    "\n",
    "@time_it\n",
    "def product(*args):\n",
    "    return prod(args)\n",
    "\n",
    "\n",
    "num_input = [50, 50, 100, 200]\n",
    "print(f\"The average of {num_input} is {average(*num_input)}.\\n\")\n",
    "print(f\"The product of {num_input} is {product(*num_input)}.\\n\")"
   ]
  },
  {
   "cell_type": "code",
   "execution_count": null,
   "id": "c07240c2",
   "metadata": {
    "scrolled": true
   },
   "outputs": [],
   "source": [
    "# Hey wait, what if I try to get the name of the decorate function?\n",
    "print(f'The name of the \"average\" function is: {average.__name__}.')"
   ]
  },
  {
   "cell_type": "code",
   "execution_count": null,
   "id": "88a556cf",
   "metadata": {},
   "outputs": [],
   "source": [
    "# Enter functools for preserving the identity of the decorated function.\n",
    "\n",
    "# The definition for decorators goes here - say it in `decorators_functools.py`\n",
    "from time import time\n",
    "from functools import wraps\n",
    "\n",
    "\n",
    "def time_it_preserve(decorated_function):\n",
    "    @wraps(decorated_function)\n",
    "    def wrapper(*args, **kwargs):\n",
    "        start_time = time()\n",
    "        result = decorated_function(*args, **kwargs)\n",
    "        end_time = time()\n",
    "        print(\n",
    "            f\"Function {decorated_function.__name__} took {end_time - start_time}s to execute.\"\n",
    "        )  # Note: We make use of Python Introspection here for getting the name of the function in the f-String.\n",
    "        return result\n",
    "\n",
    "    return wrapper"
   ]
  },
  {
   "cell_type": "code",
   "execution_count": null,
   "id": "a06b558f",
   "metadata": {},
   "outputs": [],
   "source": [
    "# This is a separate file from `decorators.py`.\n",
    "from decorators_functools import time_it_preserve\n",
    "from math import prod\n",
    "\n",
    "\n",
    "@time_it_preserve\n",
    "def average(*args):\n",
    "    return sum(args) / len(args)\n",
    "\n",
    "\n",
    "@time_it_preserve\n",
    "def product(*args):\n",
    "    return prod(args)\n",
    "\n",
    "\n",
    "num_input = [50, 50, 100, 200]\n",
    "print(f\"The average of {num_input} is {average(*num_input)}.\\n\")\n",
    "print(f\"The product of {num_input} is {product(*num_input)}.\\n\")"
   ]
  },
  {
   "cell_type": "code",
   "execution_count": null,
   "id": "d31260e5",
   "metadata": {},
   "outputs": [],
   "source": [
    "# Hey wait, what if I try to get the name of the decorate function?\n",
    "print(f'The name of the \"average\" function is: {average.__name__}.')"
   ]
  },
  {
   "cell_type": "markdown",
   "id": "30345e2b",
   "metadata": {},
   "source": [
    "## Object-Oriented Programming\n",
    "\n",
    "- Structuring a program by bundling related properties and behaviours into individual objects.\n",
    "- Class - blueprint for creating an object.\n",
    "- A Class itself doesn't contain a data, instead **Instance** of a Class does."
   ]
  },
  {
   "cell_type": "code",
   "execution_count": null,
   "id": "2dc68529",
   "metadata": {},
   "outputs": [],
   "source": [
    "# Setting the initial state of the Class object.\n",
    "\n",
    "\n",
    "class Information:\n",
    "    family_type = \"Person\"  # Class Attribute.\n",
    "\n",
    "    def __init__(self, name, age):\n",
    "        self.name = name  # Creating an Instanct Attribute and assigning the passed value at the time of instantiation.\n",
    "        self.age = age  # Creating an Instanct Attribute and assigning the passed value at the time of instantiation.\n",
    "\n",
    "    def __str__(self):\n",
    "        return f\"{self.name} is a {self.family_type} and is {self.age} years old.\"\n",
    "\n",
    "    def desc(self):\n",
    "        return f\"{self.name} is a {self.family_type} and is {self.age} years old.\"\n",
    "\n",
    "    def favourite_sport(self, sport):\n",
    "        return f\"{self.name} is a {self.family_type} and is {self.age} years old. {self.name} likes {sport}.\"\n",
    "\n",
    "\n",
    "name = \"Robin\"\n",
    "age = \"20\"\n",
    "info = Information(name, age)\n",
    "print(info.family_type)  # Referring to the Class Attribute.\n",
    "print(info.name)  # Referring to the Instance Attribute.\n",
    "\n",
    "print(info.desc())\n",
    "print(info.favourite_sport(\"Tennis\"))\n",
    "print(info)"
   ]
  }
 ],
 "metadata": {
  "kernelspec": {
   "display_name": "Python 3 (ipykernel)",
   "language": "python",
   "name": "python3"
  },
  "language_info": {
   "codemirror_mode": {
    "name": "ipython",
    "version": 3
   },
   "file_extension": ".py",
   "mimetype": "text/x-python",
   "name": "python",
   "nbconvert_exporter": "python",
   "pygments_lexer": "ipython3",
   "version": "3.11.0"
  }
 },
 "nbformat": 4,
 "nbformat_minor": 5
}
