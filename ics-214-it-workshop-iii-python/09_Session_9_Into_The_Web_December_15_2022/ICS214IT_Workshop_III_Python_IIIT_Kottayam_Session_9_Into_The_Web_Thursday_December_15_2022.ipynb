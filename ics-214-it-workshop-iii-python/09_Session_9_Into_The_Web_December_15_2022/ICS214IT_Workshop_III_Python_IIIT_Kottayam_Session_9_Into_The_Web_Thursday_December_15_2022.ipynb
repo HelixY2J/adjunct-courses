{
 "cells": [
  {
   "cell_type": "code",
   "execution_count": null,
   "id": "1a580c04",
   "metadata": {},
   "outputs": [],
   "source": [
    "# Importing Jupyter Black Formatter.\n",
    "import jupyter_black\n",
    "\n",
    "jupyter_black.load()"
   ]
  },
  {
   "cell_type": "markdown",
   "id": "8498e41f",
   "metadata": {},
   "source": [
    "# ICS 214 IT Workshop III (Python) | IIIT Kottayam\n",
    "# Session 9 - Into The Web: Web Development and RESTful APIs | Thursday, December 15, 2022\n",
    "#### **Author:** Anmol Krishan Sachdeva (@greatdevaks)\n",
    "\n",
    "## Introduction to APIs\n",
    "\n",
    "- The need:\n",
    "    - System-to-system communication?\n",
    "        - Does it matter how one service is internally implemented?\n",
    "    - Standard communication formats and protocols?\n",
    "    - Data exchange?\n",
    "- Types/Standards of APIs:\n",
    "    - REST (Representational State Transfer) - not a protocol but an architectural style\n",
    "    - SOAP (Simple Object Access Protocol) - uses XML for data exchange; a protocol\n",
    "    - GraphQL - an alternative to REST; data can be pulled from multiple resources in a single API call   \n",
    "    - RPC (Remote Procedure Call) - call methods, not resources like REST.\n",
    "- (Referenced from RedHat's blog) An application is said to be RESTful if it follows 6 architectural guidelines. A RESTful application must have:\n",
    "    - A client-server architecture composed of clients, servers, and resources.\n",
    "    - Stateless client-server communication; meaning no client content is stored on the server between requests. Information about the session’s state is instead held with the client.\n",
    "    - Cacheable data to eliminate the need for some client-server interactions.\n",
    "    - A uniform interface between components so that information is transferred in a standardized form instead of specific to an application’s needs. This is described by Roy Fielding, the creator of REST, as “the central feature that distinguishes the REST architectural style from other network-based styles.”\n",
    "    - A layered system constraint, where client-server interactions can be mediated by hierarchical layers.\n",
    "    - Code on demand, allowing servers to extend the functionality of a client by transferring executable code (though also reducing visibility, making this an optional guideline).\n",
    "    \n",
    "## HTTP\n",
    "\n",
    "- Standard protocol for data exchange over web.\n",
    "- Exhibits features like REST.\n",
    "- REST can be non-HTTP.\n",
    "\n",
    "### HTTP Methods\n",
    "\n",
    "- Defines the action to be performed on the server.\n",
    "    - GET\n",
    "    - POST\n",
    "    - PUT\n",
    "    - DELETE\n",
    "\n",
    "### HTTP Status Codes\n",
    "\n",
    "- 1xx Informational\n",
    "- 2xx Success\n",
    "- 3xx Redirection\n",
    "- 4xx Client Error\n",
    "- 5xx Server Error\n",
    "\n",
    "## Architectural Discussion for End-to-End Transaction Flow between Client and Server"
   ]
  },
  {
   "cell_type": "code",
   "execution_count": null,
   "id": "24f0b9c8",
   "metadata": {},
   "outputs": [],
   "source": [
    "# Install Flask.\n",
    "!python -m pip install Flask"
   ]
  },
  {
   "cell_type": "markdown",
   "id": "53d1f31a",
   "metadata": {},
   "source": [
    "## Flask Demo\n",
    "\n",
    "- [DigitalOcean](https://www.digitalocean.com/community/tutorials/how-to-make-a-web-application-using-flask-in-python-3)"
   ]
  }
 ],
 "metadata": {
  "kernelspec": {
   "display_name": "Python 3.11.0 ('ics214-jupyter-notebook')",
   "language": "python",
   "name": "python3"
  },
  "language_info": {
   "codemirror_mode": {
    "name": "ipython",
    "version": 3
   },
   "file_extension": ".py",
   "mimetype": "text/x-python",
   "name": "python",
   "nbconvert_exporter": "python",
   "pygments_lexer": "ipython3",
   "version": "3.11.0"
  },
  "toc": {
   "base_numbering": 1,
   "nav_menu": {},
   "number_sections": true,
   "sideBar": true,
   "skip_h1_title": false,
   "title_cell": "Table of Contents",
   "title_sidebar": "Contents",
   "toc_cell": false,
   "toc_position": {},
   "toc_section_display": true,
   "toc_window_display": true
  },
  "vscode": {
   "interpreter": {
    "hash": "8781994f7ad17fd424e776cd935c1136c08ef49722e47c4189512eff0381428d"
   }
  }
 },
 "nbformat": 4,
 "nbformat_minor": 5
}
