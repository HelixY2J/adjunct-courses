{
 "cells": [
  {
   "cell_type": "code",
   "execution_count": null,
   "id": "1a580c04",
   "metadata": {},
   "outputs": [],
   "source": [
    "# Importing Jupyter Black Formatter.\n",
    "import jupyter_black\n",
    "\n",
    "jupyter_black.load()"
   ]
  },
  {
   "cell_type": "markdown",
   "id": "8498e41f",
   "metadata": {},
   "source": [
    "# ICS 214 IT Workshop III (Python) | IIIT Kottayam\n",
    "# Session 7 - Database Processing: Python and Databases | Tuesday, December 13, 2022\n",
    "#### **Author:** Anmol Krishan Sachdeva (@greatdevaks)\n",
    "\n",
    "## Databases\n",
    "\n",
    "- Flat files? CSV, JSON, XML, etc.?\n",
    "- SQLite and SQLAlchemy?\n",
    "- MySQL and PostgreSQL?\n",
    "- NoSQL?\n",
    "- Caches?\n",
    "- Queues?"
   ]
  },
  {
   "cell_type": "markdown",
   "id": "6a4c3b6a",
   "metadata": {},
   "source": [
    "### Data Storage with Flat Files: CSV\n",
    "\n",
    "- Flat files are generally human-readable files for storing data.\n",
    "- Data can be stored in CSV, JSON, XML, or custom formats."
   ]
  },
  {
   "cell_type": "code",
   "execution_count": null,
   "id": "1add90a3",
   "metadata": {},
   "outputs": [],
   "source": [
    "# Example: CSV Flat File Reading.\n",
    "\n",
    "from collections import defaultdict\n",
    "import csv\n",
    "\n",
    "authors = defaultdict(int)\n",
    "publishers = defaultdict(int)\n",
    "\n",
    "with open(\"books.csv\") as csvfile:\n",
    "    reader = csv.DictReader(csvfile)\n",
    "    for row in reader:\n",
    "        name = f\"{row['first_name']} {row['last_name']}\"\n",
    "        authors[name] += 1\n",
    "        publishers[row[\"publisher\"]] += 1\n",
    "\n",
    "print(\"#Books published by different Authors:\")\n",
    "for name in authors.keys():\n",
    "    print(f\"{name} => {authors[name]}\")\n",
    "\n",
    "print(\"\\n\")\n",
    "\n",
    "print(\"#Books published by different Publishers:\")\n",
    "for name in publishers.keys():\n",
    "    print(f\"{name} => {publishers[name]}\")"
   ]
  },
  {
   "cell_type": "code",
   "execution_count": null,
   "id": "80fdd4af",
   "metadata": {},
   "outputs": [],
   "source": [
    "# Example: CSV Flat File Writing.\n",
    "\n",
    "import csv\n",
    "\n",
    "with open(\"books.csv\", \"a\", newline=\"\\n\") as csvfile:\n",
    "    fieldnames = [\"first_name\", \"last_name\", \"title\", \"publisher\"]\n",
    "    writer = csv.DictWriter(csvfile, fieldnames=fieldnames)\n",
    "    csvfile.write(\"\\n\")\n",
    "    #     writer.writeheader()\n",
    "    writer.writerow(\n",
    "        {\n",
    "            \"first_name\": \"Baker\",\n",
    "            \"last_name\": \"Fritz\",\n",
    "            \"title\": \"Into the Universe\",\n",
    "            \"publisher\": \"Galaxy\",\n",
    "        }\n",
    "    )\n",
    "    writer.writerow(\n",
    "        {\n",
    "            \"first_name\": \"Roger\",\n",
    "            \"last_name\": \"Djokovic\",\n",
    "            \"title\": \"Story of Sun\",\n",
    "            \"publisher\": \"WhiteHouse\",\n",
    "        }\n",
    "    )"
   ]
  },
  {
   "cell_type": "markdown",
   "id": "99143c8a",
   "metadata": {},
   "source": [
    "### SQLite\n",
    "\n",
    "- No massive database servers needed.\n",
    "- Available in Python as a built-in library.\n",
    "- Data can be saved in a single file.\n",
    "- Extremely light-weight database.\n",
    "- Relational database characteristics.\n",
    "- Not comparable to client/server SQL database engines like MySQL, PostgreSQL, etc.\n",
    "- Scenarios:\n",
    "    - Data Storage\n",
    "    - Data Analysis\n",
    "    - Data Transfer\n",
    "    - Data persistance on small devices like IOT devices or Embedded decives\n",
    "    - Temporary database\n",
    "    - Light websites\n",
    "    - Desktop applications\n",
    "    - Local caching purposes\n",
    "    - Local POCs\n",
    "    - One write at a time with limited number of readers"
   ]
  },
  {
   "cell_type": "code",
   "execution_count": null,
   "id": "3d1b8885",
   "metadata": {},
   "outputs": [],
   "source": [
    "# Example: SQLite Database.\n",
    "\n",
    "import sqlite3 as sl\n",
    "\n",
    "con = sl.connect(\n",
    "    \"my-test.db\"\n",
    ")  # Establishing a Database Connection. If the database is not present, it is created."
   ]
  },
  {
   "cell_type": "code",
   "execution_count": null,
   "id": "94789210",
   "metadata": {},
   "outputs": [],
   "source": [
    "# Create a table `USER` with three columns `id`, `name`, and `age`.\n",
    "with con:\n",
    "    con.execute(\n",
    "        \"\"\"\n",
    "        CREATE TABLE USER (\n",
    "            id INTEGER NOT NULL PRIMARY KEY AUTOINCREMENT,\n",
    "            name TEXT,\n",
    "            age INTEGER\n",
    "        );\n",
    "    \"\"\"\n",
    "    )"
   ]
  },
  {
   "cell_type": "code",
   "execution_count": null,
   "id": "2fb6317e",
   "metadata": {},
   "outputs": [],
   "source": [
    "# Insert records into the `USER` table.\n",
    "sql = \"INSERT INTO USER (id, name, age) values(?, ?, ?)\"\n",
    "data = [(1, \"Alice\", 21), (2, \"Bob\", 22), (3, \"Chris\", 23)]\n",
    "\n",
    "with con:\n",
    "    con.executemany(sql, data)"
   ]
  },
  {
   "cell_type": "code",
   "execution_count": null,
   "id": "bacd7955",
   "metadata": {},
   "outputs": [],
   "source": [
    "# Querying the `USER` table.abswith con:\n",
    "data = con.execute(\"SELECT * FROM USER\")\n",
    "# data = con.execute(\"SELECT * FROM USER WHERE age <= 22\")\n",
    "for row in data:\n",
    "    print(row)"
   ]
  },
  {
   "cell_type": "markdown",
   "id": "c4392a8a",
   "metadata": {},
   "source": [
    "#### Take Home Assignment\n",
    "\n",
    "- Update records.\n",
    "- Delete records."
   ]
  },
  {
   "cell_type": "markdown",
   "id": "c2194c00",
   "metadata": {},
   "source": [
    "### SQLAlchemy\n",
    "\n",
    "- Third-party Python library.\n",
    "- Offers ORM (Object Relational Mapping) capabilities.\n",
    "- Provides methods and statements to interact with database."
   ]
  },
  {
   "cell_type": "code",
   "execution_count": null,
   "id": "9fbf6725",
   "metadata": {},
   "outputs": [],
   "source": [
    "# Example: SQLAlchemy.\n",
    "\n",
    "import sqlalchemy as sqldb\n",
    "\n",
    "table_name = \"USER\"\n",
    "db_engine = sqldb.create_engine(\"sqlite:///my-test.db\")\n",
    "db_connection = db_engine.connect()\n",
    "metadata = sqldb.MetaData()\n",
    "user_table = sqldb.Table(table_name, metadata, autoload=True, autoload_with=db_engine)"
   ]
  },
  {
   "cell_type": "code",
   "execution_count": null,
   "id": "b58e0ea6",
   "metadata": {},
   "outputs": [],
   "source": [
    "# Print the table column names.\n",
    "print(user_table.columns.keys())"
   ]
  },
  {
   "cell_type": "code",
   "execution_count": null,
   "id": "9ea2661f",
   "metadata": {},
   "outputs": [],
   "source": [
    "# Print table metadata.\n",
    "print(repr(metadata.tables[table_name]))"
   ]
  },
  {
   "cell_type": "code",
   "execution_count": null,
   "id": "42e3eee3",
   "metadata": {},
   "outputs": [],
   "source": [
    "# Querying: Equivalent to 'SELECT * FROM USER'.\n",
    "query = sqldb.select([user_table])\n",
    "print(query)"
   ]
  },
  {
   "cell_type": "code",
   "execution_count": null,
   "id": "88f58d71",
   "metadata": {},
   "outputs": [],
   "source": [
    "result = db_connection.execute(query).fetchall()\n",
    "print(result)"
   ]
  },
  {
   "cell_type": "code",
   "execution_count": null,
   "id": "1132fe7e",
   "metadata": {},
   "outputs": [],
   "source": [
    "# Querying: Equivalent to 'SELECT * FROM USER WHERE age <= 22'.\n",
    "query = sqldb.select([user_table]).where(user_table.columns.age <= 22)\n",
    "print(query)"
   ]
  },
  {
   "cell_type": "code",
   "execution_count": null,
   "id": "ca0bb8fa",
   "metadata": {},
   "outputs": [],
   "source": [
    "result = db_connection.execute(query).fetchall()\n",
    "print(result)"
   ]
  },
  {
   "cell_type": "markdown",
   "id": "7fc66e3d",
   "metadata": {},
   "source": [
    "### Pickling\n",
    "\n",
    "- Helps store state of objects into databases.\n",
    "- The state can be exchanged over network as well.\n",
    "- A concept of Serialization/Marshalling is used.\n",
    "    - A way to convert and store a data structure into a linear format that can be exchanged over the network.\n",
    "        - Think of having some data converted into byte streams.\n",
    "- Deserialization/Unmarshalling is conversion of stream of bytes into the real data.\n",
    "- Very common in Data Science and Neural Network processing.\n",
    "- `pickle` module can be used.\n",
    "    - Other common modules for Serialization/Deserialization are:\n",
    "        - `json`\n",
    "        - `marshal`\n",
    "- Pickled objects can be further compressed."
   ]
  },
  {
   "cell_type": "code",
   "execution_count": null,
   "id": "c7d4927d",
   "metadata": {},
   "outputs": [],
   "source": [
    "# Example: Pickling/Unpickling.\n",
    "\n",
    "import pickle\n",
    "\n",
    "\n",
    "class PickleExampleString:\n",
    "    a_number = 35\n",
    "    a_string = \"hey\"\n",
    "    a_list = [1, 2, 3]\n",
    "    a_dict = {\"first\": \"a\", \"second\": 2, \"third\": [1, 2, 3]}\n",
    "    a_tuple = (22, 23)\n",
    "\n",
    "\n",
    "class PickleExampleFile:\n",
    "    a_number = 20\n",
    "    a_string = \"awesome\"\n",
    "    a_list = [1, 2, 3, 4]\n",
    "    a_dict = {\"first\": \"a\", \"second\": 2, \"third\": [1, 2, 3, 4]}\n",
    "    a_tuple = (22, 23)\n",
    "\n",
    "\n",
    "my_object_string = PickleExampleString()\n",
    "my_object_file = PickleExampleFile()\n",
    "\n",
    "my_pickled_object = pickle.dumps(my_object_string)  # Pickling the object.\n",
    "print(f\"This is my pickled object:\\n{my_pickled_object}\\n\")\n",
    "\n",
    "my_object_string.a_dict = None\n",
    "\n",
    "my_unpickled_object = pickle.loads(my_pickled_object)  # Unpickling the object.\n",
    "print(f\"This is a_dict of the unpickled object:\\n{my_unpickled_object.a_dict}\\n\")\n",
    "print(f\"This is a_dict of the original object:\\n{my_object_string.a_dict}\\n\")\n",
    "\n",
    "with open(\"sample_dump.pickle\", \"wb\") as picklefile:\n",
    "    pickle.dump(my_object_file, picklefile)\n",
    "\n",
    "with open(\"sample_dump.pickle\", \"rb\") as picklefile:\n",
    "    unserialized_data = pickle.load(picklefile)\n",
    "print(f\"This is a_dict of the unpickled file object:\\n{unserialized_data.a_dict}\\n\")"
   ]
  },
  {
   "cell_type": "markdown",
   "id": "eaa1fd60",
   "metadata": {},
   "source": [
    "### SQL vs. NoSQL\n",
    "\n",
    "- SQL: Relational; NoSQL: Non-Relational\n",
    "- SQL: Table-based; NoSQL: Document-based, key-value pair-based, graph, wide-column based, etc.\n",
    "- SQL: Strict Schema; NoSQL: Schemaless\n",
    "- SQL: SQL Query Language; NoSQL: Database dependent\n",
    "- SQL: Scaling through replicas, sharding, or vertical scaling; NoSQL: Horizontal Scaling possible\n",
    "- Examples:\n",
    "    - SQL:\n",
    "        - MySQL\n",
    "        - PostgreSQL\n",
    "        - MSSQL\n",
    "    - NoSQL:\n",
    "        - MongoDB\n",
    "        - Aerospike\n",
    "        - Cassandra\n",
    "        - Redis\n",
    "        \n",
    "#### MongoDB\n",
    "\n",
    "- Document-based NoSQL; JSON-like documents.\n",
    "- Maintains `Collections` of `Documents` instead of `Tables` of `Rows`."
   ]
  },
  {
   "cell_type": "code",
   "execution_count": null,
   "id": "d781750d",
   "metadata": {},
   "outputs": [],
   "source": [
    ".# Example: MongoDB.\n",
    "\n",
    "import pprint\n",
    "from pymongo import MongoClient\n",
    "\n",
    "# client = MongoClient(host=\"localhost\", port=27017)\n",
    "client = MongoClient()\n",
    "\n",
    "tutorial1 = {\n",
    "    \"title\": \"Working With JSON Data in Python\",\n",
    "    \"author\": \"Daniel\",\n",
    "    \"contributors\": [\"Max\", \"Dan\", \"John\"],\n",
    "    \"url\": \"https://mock.com/python-json/\",\n",
    "}\n",
    "\n",
    "# Establishing connectivity with the Database `tutorial`.\n",
    "db = client.tutorial\n",
    "\n",
    "# Writing data to a MongoDB database named `tutorial`.\n",
    "tutorial = db.tutorial\n",
    "result = tutorial.insert_one(tutorial1)\n",
    "\n",
    "daniel_tutorial = tutorial.find_one({\"author\": \"Daniel\"})\n",
    "client.close()\n",
    "\n",
    "# Reading data from a MongoDB database named `tutorial`.\n",
    "with MongoClient() as client:\n",
    "    db = client.tutorial\n",
    "    for doc in db.tutorial.find():\n",
    "        pprint.pprint(doc)"
   ]
  }
 ],
 "metadata": {
  "kernelspec": {
   "display_name": "Python 3 (ipykernel)",
   "language": "python",
   "name": "python3"
  },
  "language_info": {
   "codemirror_mode": {
    "name": "ipython",
    "version": 3
   },
   "file_extension": ".py",
   "mimetype": "text/x-python",
   "name": "python",
   "nbconvert_exporter": "python",
   "pygments_lexer": "ipython3",
   "version": "3.11.0"
  },
  "toc": {
   "base_numbering": 1,
   "nav_menu": {},
   "number_sections": true,
   "sideBar": true,
   "skip_h1_title": false,
   "title_cell": "Table of Contents",
   "title_sidebar": "Contents",
   "toc_cell": false,
   "toc_position": {},
   "toc_section_display": true,
   "toc_window_display": true
  }
 },
 "nbformat": 4,
 "nbformat_minor": 5
}
