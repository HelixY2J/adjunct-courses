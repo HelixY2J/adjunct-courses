{
 "cells": [
  {
   "cell_type": "code",
   "execution_count": null,
   "id": "1a580c04",
   "metadata": {},
   "outputs": [],
   "source": [
    "# Importing Jupyter Black Formatter.\n",
    "import jupyter_black\n",
    "\n",
    "jupyter_black.load()"
   ]
  },
  {
   "cell_type": "markdown",
   "id": "8498e41f",
   "metadata": {},
   "source": [
    "# ICS 214 IT Workshop III (Python) | IIIT Kottayam\n",
    "# Session 8 - Let's Talk Data: Python, Numpy, and Visualizations | Wednesday, December 14, 2022\n",
    "#### **Author:** Anmol Krishan Sachdeva (@greatdevaks)\n",
    "\n",
    "**Note:** Session inspired by https://aaltoscicomp.github.io/python-for-scicomp/ and Real Python.\n",
    "\n",
    "## Common Tools\n",
    "\n",
    "- Jupyter - Interactive Analysis\n",
    "- NumPy and SciPy - Numerical Analysis\n",
    "- Matplotlib - Visualization"
   ]
  },
  {
   "cell_type": "markdown",
   "id": "0c1a70ce",
   "metadata": {},
   "source": [
    "## NumPy\n",
    "\n",
    "- A third-party Python library.\n",
    "- Provides a data structure - the N-dimensional (Multidimensional) Array.\n",
    "- Used in Data Science and Scientific Computing.\n",
    "\n",
    "### Pre-requisites\n",
    "\n",
    "- Matrix Operations in Mathematics\n",
    "\n",
    "### Why use NumPy over traditional code which uses Loops, Flat Files, etc.?\n",
    "\n",
    "- **Performance:** NumPy is performance optimized and written in C language.\n",
    "- **Less Looping:** Less number of loops required.\n",
    "- **Clean Code:** More aligned with scientific representations.\n",
    "\n",
    "### Important Terminologies\n",
    "\n",
    "- **Scalars:** Single Element stored in a variable.\n",
    "- **Vectors:** Single-dimensional Arrays.\n",
    "- **Shape:** The size of each dimension of the Array.\n",
    "    - Critical when using functions because Arrays need to have the right shape in order to be fed to a function or operated on."
   ]
  },
  {
   "cell_type": "code",
   "execution_count": null,
   "id": "cdc0ff73",
   "metadata": {},
   "outputs": [],
   "source": [
    "# Installing Python packages from within Jupyter.\n",
    "!python -m pip install numpy matplotlib"
   ]
  },
  {
   "cell_type": "code",
   "execution_count": null,
   "id": "0f124d05",
   "metadata": {},
   "outputs": [],
   "source": [
    "# Example: NumPy usage.\n",
    "\n",
    "import numpy as np\n",
    "\n",
    "# Creating NumPy Arrays.\n",
    "scores = np.array([51, 20, 34, 79, 82, 99, 10, 30])\n",
    "\n",
    "# Taking mean of scores.\n",
    "mean_score = scores.mean()\n",
    "\n",
    "# Defining a Scalar.\n",
    "score_threshold = 85\n",
    "\n",
    "# Calculating the mean score diff from the score threshold\n",
    "score_diff = score_threshold - mean_score\n",
    "\n",
    "# Vectorization: Performing same operation on every element of the Array.\n",
    "# Broadcasting: Performing Vectorization on two Arrays of different shapes.\n",
    "vectorized_scores = scores + score_diff\n",
    "\n",
    "print(f\"Mean Score: {mean_score}\")\n",
    "print(f\"Score Diff: {score_diff}\")\n",
    "print(f\"Original Scores: {scores}\")\n",
    "print(f\"Vectorized Scores: {vectorized_scores}\")\n",
    "\n",
    "# Using Broadcasting for Clipping.\n",
    "print(f\"Clipped Scores: {np.clip(vectorized_scores, a_min=scores, a_max=100)}\")"
   ]
  },
  {
   "cell_type": "code",
   "execution_count": null,
   "id": "b7c0826c",
   "metadata": {},
   "outputs": [],
   "source": [
    "# Example: Multi-dimensional Arrays.\n",
    "\n",
    "num_matrix = np.array([\n",
    "    [1, 2, 3],\n",
    "    [4, 5, 6],\n",
    "    [7, 8, 9],\n",
    "])\n",
    "\n",
    "print(num_matrix)\n",
    "print(num_matrix.shape)\n",
    "print(num_matrix.size)\n",
    "\n",
    "# Returning the maximum element in the entire Array.\n",
    "print(num_matrix.max())"
   ]
  },
  {
   "cell_type": "code",
   "execution_count": null,
   "id": "9f932878",
   "metadata": {},
   "outputs": [],
   "source": [
    "# Example: Shape of Arrays.\n",
    "\n",
    "boiling_point = np.array([\n",
    "    10.30, 42.1, 18.8, 16.1, 38.0, 12.5, 12.6, 49.9, 38.6, 31.3, 20.21, 1.10\n",
    "]).reshape(2, 2, 3)\n",
    "\n",
    "print(boiling_point)\n",
    "print(boiling_point.shape)"
   ]
  },
  {
   "cell_type": "code",
   "execution_count": null,
   "id": "c899e105",
   "metadata": {},
   "outputs": [],
   "source": [
    "# Example: Swapping the axes.\n",
    "\n",
    "swapped_axes = np.swapaxes(boiling_point, 1, 2)\n",
    "print(swapped_axes)\n",
    "print(swapped_axes.shape)"
   ]
  },
  {
   "cell_type": "code",
   "execution_count": null,
   "id": "2a4de0f2",
   "metadata": {},
   "outputs": [],
   "source": [
    "# Example: Max Element along Axis.\n",
    "\n",
    "print(f\"Array:\\n{num_matrix}\\n\")\n",
    "\n",
    "print(f\"Axis 0: {num_matrix.max(axis=0)}\")\n",
    "print(f\"Axis 1: {num_matrix.max(axis=1)}\")\n",
    "\n",
    "# Note: When feeding the Array to a function, if no Axis is specified, the operation is performed over the entire Array."
   ]
  },
  {
   "cell_type": "code",
   "execution_count": null,
   "id": "1c584466",
   "metadata": {},
   "outputs": [],
   "source": [
    "# Example: Array arrangement with shapes followed by broadcasting.\n",
    "\n",
    "# Creating arrays in a range using arange().\n",
    "A = np.arange(12).reshape(1, 3, 4) # 1 Plane with 3 Rows and 4 Columns.\n",
    "B = np.arange(20).reshape(5, 1, 4) # 5 Planes with 1 Row and 4 Columns.\n",
    "\n",
    "print(f\"A:\\n {A}\\n\")\n",
    "print(f\"B:\\n {B}\\n\")\n",
    "\n",
    "# Note: Broadcasting can be done if the Arrays match in dimensions or one of the Arrays has a size of 1. Explore having size of axies match.\n",
    "print(f\"A + B:\\n {A + B}\\n\")"
   ]
  },
  {
   "cell_type": "code",
   "execution_count": null,
   "id": "bb0ab64c",
   "metadata": {},
   "outputs": [],
   "source": [
    "# Example: Performance Test.\n",
    "\n",
    "a = list(range(100000)) # List from 0 to 99999.\n",
    "b = [0] * 100000 # Empty list of 100000 elements."
   ]
  },
  {
   "cell_type": "code",
   "execution_count": null,
   "id": "bb9d5195",
   "metadata": {},
   "outputs": [],
   "source": [
    "%%timeit\n",
    "for i in range(len(a)):\n",
    "    b[i] = a[i]**2 # Square `a` and put in `b`."
   ]
  },
  {
   "cell_type": "code",
   "execution_count": null,
   "id": "13e92c9b",
   "metadata": {},
   "outputs": [],
   "source": [
    "import numpy as np\n",
    "a = np.arange(100000)\n",
    "b = np.zeros(100000)"
   ]
  },
  {
   "cell_type": "code",
   "execution_count": null,
   "id": "0de20c6c",
   "metadata": {},
   "outputs": [],
   "source": [
    "%%timeit\n",
    "b = a ** 2"
   ]
  },
  {
   "cell_type": "code",
   "execution_count": null,
   "id": "5e307098",
   "metadata": {},
   "outputs": [],
   "source": [
    "# Example: Some other Array creation methods.\n",
    "\n",
    "print(f\"{np.zeros((2, 3))}\\n\") # 2x3 array with all elements 0.\n",
    "print(f\"{np.ones((1,2))}\\n\") # 1x2 array with all elements 1.\n",
    "print(f\"{np.full((2,2),7)}\\n\") # 2x2 array with all elements 7.\n",
    "print(f\"{np.eye(2)}\\n\") # 2x2 identity matrix.\n",
    "print(f\"{np.arange(10)}\\n\") # Evenly spaced values in an interval.\n",
    "print(f\"{np.linspace(0,9,5)}\\n\") # Similar to arrange but uses a sample number for defining the steps.\n",
    "print(f\"{np.ones((3, 2), 'bool')}\\n\") # 3x2 boolean array."
   ]
  },
  {
   "cell_type": "code",
   "execution_count": null,
   "id": "b13ad5f5",
   "metadata": {},
   "outputs": [],
   "source": [
    "# Example: Storing Arrays in Files.\n",
    "\n",
    "np.save('num_matrix.npy', num_matrix)           # Save the array `num_matrix` to `num_matrix.npy` file.\n",
    "x = np.load('num_matrix.npy')          # Load an array from `num_matrix .npy file` and store it in variable `x`."
   ]
  },
  {
   "cell_type": "code",
   "execution_count": null,
   "id": "1d49d191",
   "metadata": {},
   "outputs": [],
   "source": [
    "# Example: Common Arithematic Operations.\n",
    "\n",
    "a = np.array([[1,2],[3,4]])\n",
    "b = np.array([[5,6],[7,8]])\n",
    "\n",
    "# Addition\n",
    "c = a + b\n",
    "d = np.add(a,b)\n",
    "\n",
    "# Matrix multiplication\n",
    "e = a @ b\n",
    "f = np.dot(a, b)"
   ]
  },
  {
   "cell_type": "code",
   "execution_count": null,
   "id": "a00ec180",
   "metadata": {},
   "outputs": [],
   "source": [
    "# Example: Indexing and Slicing.\n",
    "\n",
    "a = np.arange(16).reshape(4, 4)  # 4x4 matrix from 0 to 15.\n",
    "print(a)\n",
    "print(a[0])                             # First row.\n",
    "print(a[:,0])                           # First column.\n",
    "print(a[:,1])                           # Second column.\n",
    "print(a[1:3,1:3])                       # Middle 2x2 array.\n",
    "\n",
    "print(a[(0, 1), (1, 1)])                # Second element of first and second row as array."
   ]
  },
  {
   "cell_type": "code",
   "execution_count": null,
   "id": "ab96d133",
   "metadata": {},
   "outputs": [],
   "source": [
    "# Example: Masking.\n",
    "\n",
    "numbers = np.linspace(5, 50, 24, dtype=int).reshape(4, -1)\n",
    "print(numbers)\n",
    "\n",
    "# Vectorization.\n",
    "mask = numbers % 4 == 0\n",
    "print(mask)\n",
    "\n",
    "print(numbers[mask])\n",
    "# Similar to numbers[numbers % 4 == 0]."
   ]
  },
  {
   "cell_type": "code",
   "execution_count": null,
   "id": "92189611",
   "metadata": {},
   "outputs": [],
   "source": [
    "# Example: Record/Structured Arrays.\n",
    "\n",
    "import numpy as np\n",
    "\n",
    "data = np.array([\n",
    "    (\"wang\", 32, 6),\n",
    "    (\"john\", 15, 20),\n",
    "    (\"christian\", 80, 100),\n",
    "    (\"daniel\", 38, 9001),\n",
    "    ], dtype=[(\"name\", str, 10), (\"age\", int), (\"power\", int)])\n",
    "\n",
    "print(data[0])\n",
    "\n",
    "print(data[\"name\"])"
   ]
  },
  {
   "cell_type": "code",
   "execution_count": null,
   "id": "0d6ea86a",
   "metadata": {},
   "outputs": [],
   "source": [
    "# Example: Matrix Transpose.\n",
    "\n",
    "import numpy as np\n",
    "a = np.random.rand(10000, 20000)\n",
    "print(a)\n",
    "print(f'Matrix `a` takes up {a.nbytes / 10**6} MB')"
   ]
  },
  {
   "cell_type": "code",
   "execution_count": null,
   "id": "ade408e7",
   "metadata": {},
   "outputs": [],
   "source": [
    "%%timeit\n",
    "b = a.transpose()"
   ]
  },
  {
   "cell_type": "markdown",
   "id": "ae12dfdc",
   "metadata": {},
   "source": [
    "## Pandas\n",
    "\n",
    "- High-performance data structures along with analaysis capabilities.\n"
   ]
  },
  {
   "cell_type": "code",
   "execution_count": null,
   "id": "03218da3",
   "metadata": {},
   "outputs": [],
   "source": [
    "# Installing Pandas library.\n",
    "!python -m pip install pandas"
   ]
  },
  {
   "cell_type": "code",
   "execution_count": null,
   "id": "abb8ba56",
   "metadata": {},
   "outputs": [],
   "source": [
    "# Example: Pandas.\n",
    "\n",
    "import pandas as pd\n",
    "\n",
    "# Fetching data into Pandas DataFrame from CSV file.\n",
    "# DataFrame is a tabular data.\n",
    "# URL: https://raw.githubusercontent.com/pandas-dev/pandas/master/doc/data/titanic.csv\n",
    "file_path = \"titanic.csv\"\n",
    "titanic = pd.read_csv(file_path, index_col='Name')\n",
    "\n",
    "# Printing the first few elements.\n",
    "print(f\"Head:\\n{titanic.head()}\\n\")\n",
    "\n",
    "# Summary for each column.\n",
    "print(f\"Description:\\n{titanic.describe()}\")"
   ]
  },
  {
   "cell_type": "code",
   "execution_count": null,
   "id": "748d8d6a",
   "metadata": {},
   "outputs": [],
   "source": [
    "# Example: Print survival probablitiy with average age of people who survived and didn't survive.\n",
    "print(titanic.groupby(\"Survived\")[\"Age\"].mean())"
   ]
  },
  {
   "cell_type": "code",
   "execution_count": null,
   "id": "8b448ffa",
   "metadata": {},
   "outputs": [],
   "source": [
    "titanic.hist(column='Age', by='Survived', bins=25, figsize=(8,10),\n",
    "             layout=(2,1), zorder=2, sharex=True, rwidth=0.9);"
   ]
  },
  {
   "cell_type": "markdown",
   "id": "ccfde9c8",
   "metadata": {},
   "source": [
    "## Visualizations\n",
    "\n",
    "- Libraries:\n",
    "    - Matplotlib\n",
    "    - Plotly\n",
    "    - Bokeh\n",
    "    - Seaborn\n",
    "    - Many more\n",
    "- Should be familiar to the MATLAB users."
   ]
  },
  {
   "cell_type": "code",
   "execution_count": null,
   "id": "b771ff14",
   "metadata": {},
   "outputs": [],
   "source": [
    "# This line tells Jupyter to display matplotlib figures in the notebook.\n",
    "%matplotlib inline\n",
    "\n",
    "import matplotlib.pyplot as plt\n",
    "\n",
    "# This is dataset 1 from\n",
    "# https://en.wikipedia.org/wiki/Anscombe%27s_quartet\n",
    "data_x = [10.0, 8.0, 13.0, 9.0, 11.0, 14.0, 6.0, 4.0, 12.0, 7.0, 5.0]\n",
    "data_y = [8.04, 6.95, 7.58, 8.81, 8.33, 9.96, 7.24, 4.26, 10.84, 4.82, 5.68]\n",
    "\n",
    "fig, ax = plt.subplots()\n",
    "\n",
    "ax.scatter(x=data_x, y=data_y, c=\"#E69F00\")\n",
    "\n",
    "ax.set_xlabel(\"X Axis\")\n",
    "ax.set_ylabel(\"Y Axis\")\n",
    "ax.set_title(\"Graph Title\")\n",
    "\n",
    "# Saving the graph.\n",
    "fig.savefig(\"sample_plot.png\")"
   ]
  },
  {
   "cell_type": "markdown",
   "id": "adb1027f",
   "metadata": {},
   "source": [
    "## Pandas and Matplotlib Together"
   ]
  },
  {
   "cell_type": "code",
   "execution_count": null,
   "id": "29fc306f",
   "metadata": {},
   "outputs": [],
   "source": [
    "# Example: Pandas and Matplotlib Together.\n",
    "\n",
    "import pandas as pd\n",
    "import matplotlib.pyplot as plt\n",
    "\n",
    "# URL: https://raw.githubusercontent.com/plotly/datasets/master/gapminder_with_codes.csv\n",
    "file_path = \"gapminder_with_codes.csv\"\n",
    "data = pd.read_csv(file_path)\n",
    "\n",
    "data_2007 = data[data[\"year\"] == 2007]\n",
    "\n",
    "data_2007"
   ]
  },
  {
   "cell_type": "code",
   "execution_count": null,
   "id": "fb097236",
   "metadata": {},
   "outputs": [],
   "source": [
    "fig, ax = plt.subplots()\n",
    "\n",
    "ax.scatter(x=data_2007[\"gdpPercap\"], y=data_2007[\"lifeExp\"], alpha=0.5) # Alpha handles the transparency of the plot.\n",
    "\n",
    "ax.set_xlabel(\"GDP (USD) per capita\")\n",
    "ax.set_ylabel(\"life expectancy (years)\")"
   ]
  }
 ],
 "metadata": {
  "kernelspec": {
   "display_name": "Python 3 (ipykernel)",
   "language": "python",
   "name": "python3"
  },
  "language_info": {
   "codemirror_mode": {
    "name": "ipython",
    "version": 3
   },
   "file_extension": ".py",
   "mimetype": "text/x-python",
   "name": "python",
   "nbconvert_exporter": "python",
   "pygments_lexer": "ipython3",
   "version": "3.11.0"
  },
  "toc": {
   "base_numbering": 1,
   "nav_menu": {},
   "number_sections": true,
   "sideBar": true,
   "skip_h1_title": false,
   "title_cell": "Table of Contents",
   "title_sidebar": "Contents",
   "toc_cell": false,
   "toc_position": {},
   "toc_section_display": true,
   "toc_window_display": true
  }
 },
 "nbformat": 4,
 "nbformat_minor": 5
}
